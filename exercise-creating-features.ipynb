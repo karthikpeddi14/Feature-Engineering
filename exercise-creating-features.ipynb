{
 "cells": [
  {
   "cell_type": "markdown",
   "id": "a0f4bfbf",
   "metadata": {
    "papermill": {
     "duration": 0.009352,
     "end_time": "2023-10-24T08:04:27.713426",
     "exception": false,
     "start_time": "2023-10-24T08:04:27.704074",
     "status": "completed"
    },
    "tags": []
   },
   "source": [
    "**This notebook is an exercise in the [Feature Engineering](https://www.kaggle.com/learn/feature-engineering) course.  You can reference the tutorial at [this link](https://www.kaggle.com/ryanholbrook/creating-features).**\n",
    "\n",
    "---\n"
   ]
  },
  {
   "cell_type": "markdown",
   "id": "f47a4670",
   "metadata": {
    "papermill": {
     "duration": 0.00691,
     "end_time": "2023-10-24T08:04:27.727705",
     "exception": false,
     "start_time": "2023-10-24T08:04:27.720795",
     "status": "completed"
    },
    "tags": []
   },
   "source": [
    "# Introduction #\n",
    "\n",
    "In this exercise you'll start developing the features you identified in Exercise 2 as having the most potential. As you work through this exercise, you might take a moment to look at the data documentation again and consider whether the features we're creating make sense from a real-world perspective, and whether there are any useful combinations that stand out to you.\n",
    "\n",
    "Run this cell to set everything up!"
   ]
  },
  {
   "cell_type": "code",
   "execution_count": 1,
   "id": "ce40ff39",
   "metadata": {
    "execution": {
     "iopub.execute_input": "2023-10-24T08:04:27.744152Z",
     "iopub.status.busy": "2023-10-24T08:04:27.743645Z",
     "iopub.status.idle": "2023-10-24T08:04:29.703892Z",
     "shell.execute_reply": "2023-10-24T08:04:29.703044Z"
    },
    "papermill": {
     "duration": 1.971468,
     "end_time": "2023-10-24T08:04:29.706461",
     "exception": false,
     "start_time": "2023-10-24T08:04:27.734993",
     "status": "completed"
    },
    "tags": []
   },
   "outputs": [],
   "source": [
    "# Setup feedback system\n",
    "from learntools.core import binder\n",
    "binder.bind(globals())\n",
    "from learntools.feature_engineering_new.ex3 import *\n",
    "\n",
    "import numpy as np\n",
    "import pandas as pd\n",
    "from sklearn.model_selection import cross_val_score\n",
    "from xgboost import XGBRegressor\n",
    "\n",
    "\n",
    "def score_dataset(X, y, model=XGBRegressor()):\n",
    "    # Label encoding for categoricals\n",
    "    for colname in X.select_dtypes([\"category\", \"object\"]):\n",
    "        X[colname], _ = X[colname].factorize()\n",
    "    # Metric for Housing competition is RMSLE (Root Mean Squared Log Error)\n",
    "    score = cross_val_score(\n",
    "        model, X, y, cv=5, scoring=\"neg_mean_squared_log_error\",\n",
    "    )\n",
    "    score = -1 * score.mean()\n",
    "    score = np.sqrt(score)\n",
    "    return score\n",
    "\n",
    "\n",
    "# Prepare data\n",
    "df = pd.read_csv(\"../input/fe-course-data/ames.csv\")\n",
    "X = df.copy()\n",
    "y = X.pop(\"SalePrice\")"
   ]
  },
  {
   "cell_type": "markdown",
   "id": "6311d094",
   "metadata": {
    "papermill": {
     "duration": 0.007232,
     "end_time": "2023-10-24T08:04:29.721012",
     "exception": false,
     "start_time": "2023-10-24T08:04:29.713780",
     "status": "completed"
    },
    "tags": []
   },
   "source": [
    "-------------------------------------------------------------------------------\n",
    "\n",
    "Let's start with a few mathematical combinations. We'll focus on features describing areas -- having the same units (square-feet) makes it easy to combine them in sensible ways. Since we're using XGBoost (a tree-based model), we'll focus on ratios and sums.\n",
    "\n",
    "# 1) Create Mathematical Transforms\n",
    "\n",
    "Create the following features:\n",
    "\n",
    "- `LivLotRatio`: the ratio of `GrLivArea` to `LotArea`\n",
    "- `Spaciousness`: the sum of `FirstFlrSF` and `SecondFlrSF` divided by `TotRmsAbvGrd`\n",
    "- `TotalOutsideSF`: the sum of `WoodDeckSF`, `OpenPorchSF`, `EnclosedPorch`, `Threeseasonporch`, and `ScreenPorch`"
   ]
  },
  {
   "cell_type": "code",
   "execution_count": 2,
   "id": "661aed09",
   "metadata": {
    "execution": {
     "iopub.execute_input": "2023-10-24T08:04:29.737178Z",
     "iopub.status.busy": "2023-10-24T08:04:29.736539Z",
     "iopub.status.idle": "2023-10-24T08:04:29.762860Z",
     "shell.execute_reply": "2023-10-24T08:04:29.761769Z"
    },
    "lines_to_next_cell": 0,
    "papermill": {
     "duration": 0.037249,
     "end_time": "2023-10-24T08:04:29.765313",
     "exception": false,
     "start_time": "2023-10-24T08:04:29.728064",
     "status": "completed"
    },
    "tags": []
   },
   "outputs": [
    {
     "data": {
      "application/javascript": [
       "parent.postMessage({\"jupyterEvent\": \"custom.exercise_interaction\", \"data\": {\"outcomeType\": 1, \"valueTowardsCompletion\": 0.2, \"interactionType\": 1, \"questionType\": 2, \"questionId\": \"1_Q1\", \"learnToolsVersion\": \"0.3.4\", \"failureMessage\": \"\", \"exceptionClass\": \"\", \"trace\": \"\"}}, \"*\")"
      ],
      "text/plain": [
       "<IPython.core.display.Javascript object>"
      ]
     },
     "metadata": {},
     "output_type": "display_data"
    },
    {
     "data": {
      "text/markdown": [
       "<span style=\"color:#33cc33\">Correct</span>"
      ],
      "text/plain": [
       "Correct"
      ]
     },
     "metadata": {},
     "output_type": "display_data"
    }
   ],
   "source": [
    "# YOUR CODE HERE\n",
    "X_1 = pd.DataFrame()  # dataframe to hold new features\n",
    "\n",
    "X_1[\"LivLotRatio\"] = df.GrLivArea/ df.LotArea\n",
    "X_1[\"Spaciousness\"] =  (df['FirstFlrSF']+df['SecondFlrSF'])/df['TotRmsAbvGrd']\n",
    "col  = ['WoodDeckSF', 'OpenPorchSF', 'EnclosedPorch', 'Threeseasonporch', 'ScreenPorch']\n",
    "X_1[\"TotalOutsideSF\"] = df[col].sum(axis=1)\n",
    "\n",
    "\n",
    "# Check your answer\n",
    "q_1.check()"
   ]
  },
  {
   "cell_type": "code",
   "execution_count": 3,
   "id": "b5299994",
   "metadata": {
    "execution": {
     "iopub.execute_input": "2023-10-24T08:04:29.782131Z",
     "iopub.status.busy": "2023-10-24T08:04:29.781713Z",
     "iopub.status.idle": "2023-10-24T08:04:29.786296Z",
     "shell.execute_reply": "2023-10-24T08:04:29.785139Z"
    },
    "lines_to_next_cell": 0,
    "papermill": {
     "duration": 0.015556,
     "end_time": "2023-10-24T08:04:29.788448",
     "exception": false,
     "start_time": "2023-10-24T08:04:29.772892",
     "status": "completed"
    },
    "tags": []
   },
   "outputs": [],
   "source": [
    "# Lines below will give you a hint or solution code\n",
    "#q_1.hint()\n",
    "#q_1.solution()"
   ]
  },
  {
   "cell_type": "markdown",
   "id": "424a7a47",
   "metadata": {
    "papermill": {
     "duration": 0.007588,
     "end_time": "2023-10-24T08:04:29.803749",
     "exception": false,
     "start_time": "2023-10-24T08:04:29.796161",
     "status": "completed"
    },
    "tags": []
   },
   "source": [
    "-------------------------------------------------------------------------------\n",
    "\n",
    "If you've discovered an interaction effect between a numeric feature and a categorical feature, you might want to model it explicitly using a one-hot encoding, like so:\n",
    "\n",
    "```\n",
    "# One-hot encode Categorical feature, adding a column prefix \"Cat\"\n",
    "X_new = pd.get_dummies(df.Categorical, prefix=\"Cat\")\n",
    "\n",
    "# Multiply row-by-row\n",
    "X_new = X_new.mul(df.Continuous, axis=0)\n",
    "\n",
    "# Join the new features to the feature set\n",
    "X = X.join(X_new)\n",
    "```\n",
    "\n",
    "# 2) Interaction with a Categorical\n",
    "\n",
    "We discovered an interaction between `BldgType` and `GrLivArea` in Exercise 2. Now create their interaction features."
   ]
  },
  {
   "cell_type": "code",
   "execution_count": 4,
   "id": "c82d35d5",
   "metadata": {
    "execution": {
     "iopub.execute_input": "2023-10-24T08:04:29.820533Z",
     "iopub.status.busy": "2023-10-24T08:04:29.819885Z",
     "iopub.status.idle": "2023-10-24T08:04:29.835343Z",
     "shell.execute_reply": "2023-10-24T08:04:29.834336Z"
    },
    "lines_to_next_cell": 0,
    "papermill": {
     "duration": 0.026663,
     "end_time": "2023-10-24T08:04:29.837722",
     "exception": false,
     "start_time": "2023-10-24T08:04:29.811059",
     "status": "completed"
    },
    "tags": []
   },
   "outputs": [
    {
     "data": {
      "application/javascript": [
       "parent.postMessage({\"jupyterEvent\": \"custom.exercise_interaction\", \"data\": {\"outcomeType\": 1, \"valueTowardsCompletion\": 0.2, \"interactionType\": 1, \"questionType\": 2, \"questionId\": \"2_Q2\", \"learnToolsVersion\": \"0.3.4\", \"failureMessage\": \"\", \"exceptionClass\": \"\", \"trace\": \"\"}}, \"*\")"
      ],
      "text/plain": [
       "<IPython.core.display.Javascript object>"
      ]
     },
     "metadata": {},
     "output_type": "display_data"
    },
    {
     "data": {
      "text/markdown": [
       "<span style=\"color:#33cc33\">Correct</span>"
      ],
      "text/plain": [
       "Correct"
      ]
     },
     "metadata": {},
     "output_type": "display_data"
    }
   ],
   "source": [
    "# YOUR CODE HERE\n",
    "# One-hot encode BldgType. Use `prefix=\"Bldg\"` in `get_dummies`\n",
    "X_2 = pd.get_dummies(df.BldgType,prefix='Bldg') \n",
    "# Multiply\n",
    "X_2 = X_2.mul(df.GrLivArea,axis=0)\n",
    "\n",
    "\n",
    "# Check your answer\n",
    "q_2.check()"
   ]
  },
  {
   "cell_type": "code",
   "execution_count": 5,
   "id": "b30f2bd3",
   "metadata": {
    "execution": {
     "iopub.execute_input": "2023-10-24T08:04:29.855169Z",
     "iopub.status.busy": "2023-10-24T08:04:29.854816Z",
     "iopub.status.idle": "2023-10-24T08:04:29.858763Z",
     "shell.execute_reply": "2023-10-24T08:04:29.857697Z"
    },
    "lines_to_next_cell": 0,
    "papermill": {
     "duration": 0.015215,
     "end_time": "2023-10-24T08:04:29.860812",
     "exception": false,
     "start_time": "2023-10-24T08:04:29.845597",
     "status": "completed"
    },
    "tags": []
   },
   "outputs": [],
   "source": [
    "# Lines below will give you a hint or solution code\n",
    "#q_2.hint()\n",
    "#q_2.solution()"
   ]
  },
  {
   "cell_type": "markdown",
   "id": "6d90972e",
   "metadata": {
    "lines_to_next_cell": 0,
    "papermill": {
     "duration": 0.007517,
     "end_time": "2023-10-24T08:04:29.876000",
     "exception": false,
     "start_time": "2023-10-24T08:04:29.868483",
     "status": "completed"
    },
    "tags": []
   },
   "source": [
    "# 3) Count Feature\n",
    "\n",
    "Let's try creating a feature that describes how many kinds of outdoor areas a dwelling has. Create a feature `PorchTypes` that counts how many of the following are greater than 0.0:\n",
    "\n",
    "```\n",
    "WoodDeckSF\n",
    "OpenPorchSF\n",
    "EnclosedPorch\n",
    "Threeseasonporch\n",
    "ScreenPorch\n",
    "```"
   ]
  },
  {
   "cell_type": "code",
   "execution_count": 6,
   "id": "e610081e",
   "metadata": {
    "execution": {
     "iopub.execute_input": "2023-10-24T08:04:29.892960Z",
     "iopub.status.busy": "2023-10-24T08:04:29.892533Z",
     "iopub.status.idle": "2023-10-24T08:04:29.910675Z",
     "shell.execute_reply": "2023-10-24T08:04:29.909885Z"
    },
    "lines_to_next_cell": 0,
    "papermill": {
     "duration": 0.028804,
     "end_time": "2023-10-24T08:04:29.912531",
     "exception": false,
     "start_time": "2023-10-24T08:04:29.883727",
     "status": "completed"
    },
    "tags": []
   },
   "outputs": [
    {
     "data": {
      "application/javascript": [
       "parent.postMessage({\"jupyterEvent\": \"custom.exercise_interaction\", \"data\": {\"outcomeType\": 1, \"valueTowardsCompletion\": 0.2, \"interactionType\": 1, \"questionType\": 2, \"questionId\": \"3_Q3\", \"learnToolsVersion\": \"0.3.4\", \"failureMessage\": \"\", \"exceptionClass\": \"\", \"trace\": \"\"}}, \"*\")"
      ],
      "text/plain": [
       "<IPython.core.display.Javascript object>"
      ]
     },
     "metadata": {},
     "output_type": "display_data"
    },
    {
     "data": {
      "text/markdown": [
       "<span style=\"color:#33cc33\">Correct</span>"
      ],
      "text/plain": [
       "Correct"
      ]
     },
     "metadata": {},
     "output_type": "display_data"
    }
   ],
   "source": [
    "X_3 = pd.DataFrame()\n",
    "\n",
    "# YOUR CODE HERE\n",
    "cols = ['WoodDeckSF','OpenPorchSF','EnclosedPorch','Threeseasonporch','ScreenPorch']\n",
    "X_3[\"PorchTypes\"] = df[cols].gt(0).sum(axis=1)\n",
    "\n",
    "# Check your answer\n",
    "q_3.check()"
   ]
  },
  {
   "cell_type": "code",
   "execution_count": 7,
   "id": "93523a7e",
   "metadata": {
    "execution": {
     "iopub.execute_input": "2023-10-24T08:04:29.930715Z",
     "iopub.status.busy": "2023-10-24T08:04:29.930025Z",
     "iopub.status.idle": "2023-10-24T08:04:29.933768Z",
     "shell.execute_reply": "2023-10-24T08:04:29.933059Z"
    },
    "lines_to_next_cell": 0,
    "papermill": {
     "duration": 0.015063,
     "end_time": "2023-10-24T08:04:29.935743",
     "exception": false,
     "start_time": "2023-10-24T08:04:29.920680",
     "status": "completed"
    },
    "tags": []
   },
   "outputs": [],
   "source": [
    "# Lines below will give you a hint or solution code\n",
    "#q_3.hint()\n",
    "#q_3.solution()"
   ]
  },
  {
   "cell_type": "markdown",
   "id": "e5ef9dbb",
   "metadata": {
    "papermill": {
     "duration": 0.007636,
     "end_time": "2023-10-24T08:04:29.951392",
     "exception": false,
     "start_time": "2023-10-24T08:04:29.943756",
     "status": "completed"
    },
    "tags": []
   },
   "source": [
    "# 4) Break Down a Categorical Feature\n",
    "\n",
    "`MSSubClass` describes the type of a dwelling:"
   ]
  },
  {
   "cell_type": "code",
   "execution_count": 8,
   "id": "a6931684",
   "metadata": {
    "execution": {
     "iopub.execute_input": "2023-10-24T08:04:29.968933Z",
     "iopub.status.busy": "2023-10-24T08:04:29.968541Z",
     "iopub.status.idle": "2023-10-24T08:04:29.977364Z",
     "shell.execute_reply": "2023-10-24T08:04:29.976276Z"
    },
    "papermill": {
     "duration": 0.020428,
     "end_time": "2023-10-24T08:04:29.979692",
     "exception": false,
     "start_time": "2023-10-24T08:04:29.959264",
     "status": "completed"
    },
    "tags": []
   },
   "outputs": [
    {
     "data": {
      "text/plain": [
       "array(['One_Story_1946_and_Newer_All_Styles', 'Two_Story_1946_and_Newer',\n",
       "       'One_Story_PUD_1946_and_Newer',\n",
       "       'One_and_Half_Story_Finished_All_Ages', 'Split_Foyer',\n",
       "       'Two_Story_PUD_1946_and_Newer', 'Split_or_Multilevel',\n",
       "       'One_Story_1945_and_Older', 'Duplex_All_Styles_and_Ages',\n",
       "       'Two_Family_conversion_All_Styles_and_Ages',\n",
       "       'One_and_Half_Story_Unfinished_All_Ages',\n",
       "       'Two_Story_1945_and_Older', 'Two_and_Half_Story_All_Ages',\n",
       "       'One_Story_with_Finished_Attic_All_Ages',\n",
       "       'PUD_Multilevel_Split_Level_Foyer',\n",
       "       'One_and_Half_Story_PUD_All_Ages'], dtype=object)"
      ]
     },
     "execution_count": 8,
     "metadata": {},
     "output_type": "execute_result"
    }
   ],
   "source": [
    "df.MSSubClass.unique()"
   ]
  },
  {
   "cell_type": "markdown",
   "id": "c2e674ff",
   "metadata": {
    "papermill": {
     "duration": 0.008025,
     "end_time": "2023-10-24T08:04:29.995926",
     "exception": false,
     "start_time": "2023-10-24T08:04:29.987901",
     "status": "completed"
    },
    "tags": []
   },
   "source": [
    "You can see that there is a more general categorization described (roughly) by the first word of each category. Create a feature containing only these first words by splitting `MSSubClass` at the first underscore `_`. (Hint: In the `split` method use an argument `n=1`.)"
   ]
  },
  {
   "cell_type": "code",
   "execution_count": 9,
   "id": "ea92a854",
   "metadata": {
    "execution": {
     "iopub.execute_input": "2023-10-24T08:04:30.014155Z",
     "iopub.status.busy": "2023-10-24T08:04:30.013737Z",
     "iopub.status.idle": "2023-10-24T08:04:30.119038Z",
     "shell.execute_reply": "2023-10-24T08:04:30.117988Z"
    },
    "lines_to_next_cell": 0,
    "papermill": {
     "duration": 0.117141,
     "end_time": "2023-10-24T08:04:30.121423",
     "exception": false,
     "start_time": "2023-10-24T08:04:30.004282",
     "status": "completed"
    },
    "tags": []
   },
   "outputs": [
    {
     "data": {
      "application/javascript": [
       "parent.postMessage({\"jupyterEvent\": \"custom.exercise_interaction\", \"data\": {\"outcomeType\": 1, \"valueTowardsCompletion\": 0.2, \"interactionType\": 1, \"questionType\": 2, \"questionId\": \"4_Q4\", \"learnToolsVersion\": \"0.3.4\", \"failureMessage\": \"\", \"exceptionClass\": \"\", \"trace\": \"\"}}, \"*\")"
      ],
      "text/plain": [
       "<IPython.core.display.Javascript object>"
      ]
     },
     "metadata": {},
     "output_type": "display_data"
    },
    {
     "data": {
      "text/markdown": [
       "<span style=\"color:#33cc33\">Correct</span>"
      ],
      "text/plain": [
       "Correct"
      ]
     },
     "metadata": {},
     "output_type": "display_data"
    }
   ],
   "source": [
    "X_4 = pd.DataFrame()\n",
    "\n",
    "# YOUR CODE HERE\n",
    "X_4[\"MSClass\"] = df.MSSubClass.str.split(\"_\", n=1, expand=True)[0]\n",
    "\n",
    "\n",
    "# Check your answer\n",
    "q_4.check()"
   ]
  },
  {
   "cell_type": "code",
   "execution_count": 10,
   "id": "42619988",
   "metadata": {
    "execution": {
     "iopub.execute_input": "2023-10-24T08:04:30.140393Z",
     "iopub.status.busy": "2023-10-24T08:04:30.139997Z",
     "iopub.status.idle": "2023-10-24T08:04:30.144670Z",
     "shell.execute_reply": "2023-10-24T08:04:30.143625Z"
    },
    "lines_to_next_cell": 0,
    "papermill": {
     "duration": 0.016774,
     "end_time": "2023-10-24T08:04:30.146939",
     "exception": false,
     "start_time": "2023-10-24T08:04:30.130165",
     "status": "completed"
    },
    "tags": []
   },
   "outputs": [],
   "source": [
    "# Lines below will give you a hint or solution code\n",
    "# q_4.hint()\n",
    "#q_4.solution()"
   ]
  },
  {
   "cell_type": "markdown",
   "id": "4ce438a6",
   "metadata": {
    "papermill": {
     "duration": 0.00854,
     "end_time": "2023-10-24T08:04:30.164415",
     "exception": false,
     "start_time": "2023-10-24T08:04:30.155875",
     "status": "completed"
    },
    "tags": []
   },
   "source": [
    "# 5) Use a Grouped Transform\n",
    "\n",
    "The value of a home often depends on how it compares to typical homes in its neighborhood. Create a feature `MedNhbdArea` that describes the *median* of `GrLivArea` grouped on `Neighborhood`."
   ]
  },
  {
   "cell_type": "code",
   "execution_count": 11,
   "id": "78273889",
   "metadata": {
    "execution": {
     "iopub.execute_input": "2023-10-24T08:04:30.183600Z",
     "iopub.status.busy": "2023-10-24T08:04:30.183231Z",
     "iopub.status.idle": "2023-10-24T08:04:30.202675Z",
     "shell.execute_reply": "2023-10-24T08:04:30.201609Z"
    },
    "lines_to_next_cell": 0,
    "papermill": {
     "duration": 0.031793,
     "end_time": "2023-10-24T08:04:30.205010",
     "exception": false,
     "start_time": "2023-10-24T08:04:30.173217",
     "status": "completed"
    },
    "tags": []
   },
   "outputs": [
    {
     "data": {
      "application/javascript": [
       "parent.postMessage({\"jupyterEvent\": \"custom.exercise_interaction\", \"data\": {\"outcomeType\": 1, \"valueTowardsCompletion\": 0.2, \"interactionType\": 1, \"questionType\": 2, \"questionId\": \"5_Q5\", \"learnToolsVersion\": \"0.3.4\", \"failureMessage\": \"\", \"exceptionClass\": \"\", \"trace\": \"\"}}, \"*\")"
      ],
      "text/plain": [
       "<IPython.core.display.Javascript object>"
      ]
     },
     "metadata": {},
     "output_type": "display_data"
    },
    {
     "data": {
      "text/markdown": [
       "<span style=\"color:#33cc33\">Correct</span>"
      ],
      "text/plain": [
       "Correct"
      ]
     },
     "metadata": {},
     "output_type": "display_data"
    }
   ],
   "source": [
    "X_5 = pd.DataFrame()\n",
    "\n",
    "# YOUR CODE HERE\n",
    "X_5[\"MedNhbdArea\"] = df.groupby(['Neighborhood'])['GrLivArea'].transform('median')\n",
    "\n",
    "# Check your answer\n",
    "q_5.check()"
   ]
  },
  {
   "cell_type": "code",
   "execution_count": 12,
   "id": "ea682bfc",
   "metadata": {
    "execution": {
     "iopub.execute_input": "2023-10-24T08:04:30.225720Z",
     "iopub.status.busy": "2023-10-24T08:04:30.224500Z",
     "iopub.status.idle": "2023-10-24T08:04:30.229694Z",
     "shell.execute_reply": "2023-10-24T08:04:30.228794Z"
    },
    "lines_to_next_cell": 0,
    "papermill": {
     "duration": 0.017808,
     "end_time": "2023-10-24T08:04:30.231793",
     "exception": false,
     "start_time": "2023-10-24T08:04:30.213985",
     "status": "completed"
    },
    "tags": []
   },
   "outputs": [],
   "source": [
    "# Lines below will give you a hint or solution code\n",
    "#q_5.hint()\n",
    "#q_5.solution()"
   ]
  },
  {
   "cell_type": "markdown",
   "id": "014d947a",
   "metadata": {
    "papermill": {
     "duration": 0.008775,
     "end_time": "2023-10-24T08:04:30.249996",
     "exception": false,
     "start_time": "2023-10-24T08:04:30.241221",
     "status": "completed"
    },
    "tags": []
   },
   "source": [
    "Now you've made your first new feature set! If you like, you can run the cell below to score the model with all of your new features added:"
   ]
  },
  {
   "cell_type": "code",
   "execution_count": 13,
   "id": "02b4a4ba",
   "metadata": {
    "execution": {
     "iopub.execute_input": "2023-10-24T08:04:30.270459Z",
     "iopub.status.busy": "2023-10-24T08:04:30.269651Z",
     "iopub.status.idle": "2023-10-24T08:04:34.482253Z",
     "shell.execute_reply": "2023-10-24T08:04:34.481351Z"
    },
    "papermill": {
     "duration": 4.225694,
     "end_time": "2023-10-24T08:04:34.484839",
     "exception": false,
     "start_time": "2023-10-24T08:04:30.259145",
     "status": "completed"
    },
    "tags": []
   },
   "outputs": [
    {
     "data": {
      "text/plain": [
       "0.14039620568946104"
      ]
     },
     "execution_count": 13,
     "metadata": {},
     "output_type": "execute_result"
    }
   ],
   "source": [
    "X_new = X.join([X_1, X_2, X_3, X_4, X_5])\n",
    "score_dataset(X_new, y)"
   ]
  },
  {
   "cell_type": "markdown",
   "id": "347ce6e3",
   "metadata": {
    "papermill": {
     "duration": 0.009002,
     "end_time": "2023-10-24T08:04:34.504449",
     "exception": false,
     "start_time": "2023-10-24T08:04:34.495447",
     "status": "completed"
    },
    "tags": []
   },
   "source": [
    "# Keep Going #\n",
    "\n",
    "[**Untangle spatial relationships**](https://www.kaggle.com/ryanholbrook/clustering-with-k-means) by adding cluster labels to your dataset."
   ]
  },
  {
   "cell_type": "markdown",
   "id": "2e92b5ab",
   "metadata": {
    "papermill": {
     "duration": 0.008821,
     "end_time": "2023-10-24T08:04:34.522371",
     "exception": false,
     "start_time": "2023-10-24T08:04:34.513550",
     "status": "completed"
    },
    "tags": []
   },
   "source": [
    "---\n",
    "\n",
    "\n",
    "\n",
    "\n",
    "*Have questions or comments? Visit the [course discussion forum](https://www.kaggle.com/learn/feature-engineering/discussion) to chat with other learners.*"
   ]
  }
 ],
 "metadata": {
  "kernelspec": {
   "display_name": "Python 3",
   "language": "python",
   "name": "python3"
  },
  "language_info": {
   "codemirror_mode": {
    "name": "ipython",
    "version": 3
   },
   "file_extension": ".py",
   "mimetype": "text/x-python",
   "name": "python",
   "nbconvert_exporter": "python",
   "pygments_lexer": "ipython3",
   "version": "3.10.12"
  },
  "papermill": {
   "default_parameters": {},
   "duration": 10.977635,
   "end_time": "2023-10-24T08:04:35.153677",
   "environment_variables": {},
   "exception": null,
   "input_path": "__notebook__.ipynb",
   "output_path": "__notebook__.ipynb",
   "parameters": {},
   "start_time": "2023-10-24T08:04:24.176042",
   "version": "2.4.0"
  }
 },
 "nbformat": 4,
 "nbformat_minor": 5
}
